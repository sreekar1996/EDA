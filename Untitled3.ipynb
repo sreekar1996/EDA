{
 "cells": [
  {
   "cell_type": "code",
   "execution_count": 42,
   "metadata": {},
   "outputs": [],
   "source": [
    "import pandas as pd\n",
    "import numpy as np\n"
   ]
  },
  {
   "cell_type": "code",
   "execution_count": 43,
   "metadata": {},
   "outputs": [],
   "source": [
    "data=pd.read_excel(\"Jun 5th flight searches.xlsx\")"
   ]
  },
  {
   "cell_type": "code",
   "execution_count": 44,
   "metadata": {},
   "outputs": [
    {
     "data": {
      "text/html": [
       "<div>\n",
       "<style scoped>\n",
       "    .dataframe tbody tr th:only-of-type {\n",
       "        vertical-align: middle;\n",
       "    }\n",
       "\n",
       "    .dataframe tbody tr th {\n",
       "        vertical-align: top;\n",
       "    }\n",
       "\n",
       "    .dataframe thead th {\n",
       "        text-align: right;\n",
       "    }\n",
       "</style>\n",
       "<table border=\"1\" class=\"dataframe\">\n",
       "  <thead>\n",
       "    <tr style=\"text-align: right;\">\n",
       "      <th></th>\n",
       "      <th>wsID</th>\n",
       "      <th>wsDate</th>\n",
       "      <th>wsReq</th>\n",
       "      <th>wsResCt</th>\n",
       "      <th>wsError</th>\n",
       "      <th>wsTime</th>\n",
       "      <th>source</th>\n",
       "      <th>trIP</th>\n",
       "      <th>dept</th>\n",
       "      <th>dest</th>\n",
       "      <th>...</th>\n",
       "      <th>afid</th>\n",
       "      <th>aid</th>\n",
       "      <th>trno</th>\n",
       "      <th>live_price</th>\n",
       "      <th>result_ip</th>\n",
       "      <th>conf</th>\n",
       "      <th>client_ip</th>\n",
       "      <th>Airlines</th>\n",
       "      <th>lower_price</th>\n",
       "      <th>device_id</th>\n",
       "    </tr>\n",
       "  </thead>\n",
       "  <tbody>\n",
       "    <tr>\n",
       "      <th>0</th>\n",
       "      <td>1429199628</td>\n",
       "      <td>2019-06-05 16:10:21.517</td>\n",
       "      <td>NaN</td>\n",
       "      <td>0</td>\n",
       "      <td>&lt;FlightJourneyAvailabilityResponse&gt;No fares&lt;/F...</td>\n",
       "      <td>0</td>\n",
       "      <td>NaN</td>\n",
       "      <td>208.94.136.245</td>\n",
       "      <td>SDQ</td>\n",
       "      <td>JFK</td>\n",
       "      <td>...</td>\n",
       "      <td>26</td>\n",
       "      <td>136</td>\n",
       "      <td>0</td>\n",
       "      <td>N</td>\n",
       "      <td>54.173.135.178</td>\n",
       "      <td>NaN</td>\n",
       "      <td>NaN</td>\n",
       "      <td>NaN</td>\n",
       "      <td>0</td>\n",
       "      <td>NaN</td>\n",
       "    </tr>\n",
       "    <tr>\n",
       "      <th>1</th>\n",
       "      <td>1429199620</td>\n",
       "      <td>2019-06-05 16:10:21.487</td>\n",
       "      <td>NaN</td>\n",
       "      <td>0</td>\n",
       "      <td>&lt;FlightJourneyAvailabilityResponse&gt;No fares&lt;/F...</td>\n",
       "      <td>0</td>\n",
       "      <td>NaN</td>\n",
       "      <td>208.94.136.244</td>\n",
       "      <td>SJO</td>\n",
       "      <td>MEX</td>\n",
       "      <td>...</td>\n",
       "      <td>26</td>\n",
       "      <td>136</td>\n",
       "      <td>0</td>\n",
       "      <td>N</td>\n",
       "      <td>52.1.239.22</td>\n",
       "      <td>NaN</td>\n",
       "      <td>NaN</td>\n",
       "      <td>NaN</td>\n",
       "      <td>0</td>\n",
       "      <td>NaN</td>\n",
       "    </tr>\n",
       "    <tr>\n",
       "      <th>2</th>\n",
       "      <td>1429199585</td>\n",
       "      <td>2019-06-05 16:10:21.130</td>\n",
       "      <td>NaN</td>\n",
       "      <td>0</td>\n",
       "      <td>&lt;FlightJourneyAvailabilityResponse&gt;No fares&lt;/F...</td>\n",
       "      <td>0</td>\n",
       "      <td>NaN</td>\n",
       "      <td>185.6.168.243</td>\n",
       "      <td>ZRH</td>\n",
       "      <td>NYC</td>\n",
       "      <td>...</td>\n",
       "      <td>26</td>\n",
       "      <td>136</td>\n",
       "      <td>0</td>\n",
       "      <td>N</td>\n",
       "      <td>52.201.73.182</td>\n",
       "      <td>NaN</td>\n",
       "      <td>NaN</td>\n",
       "      <td>NaN</td>\n",
       "      <td>0</td>\n",
       "      <td>NaN</td>\n",
       "    </tr>\n",
       "    <tr>\n",
       "      <th>3</th>\n",
       "      <td>1429199570</td>\n",
       "      <td>2019-06-05 16:10:20.997</td>\n",
       "      <td>NaN</td>\n",
       "      <td>0</td>\n",
       "      <td>&lt;FlightJourneyAvailabilityResponse&gt;No fares&lt;/F...</td>\n",
       "      <td>0</td>\n",
       "      <td>NaN</td>\n",
       "      <td>208.94.136.246</td>\n",
       "      <td>SIN</td>\n",
       "      <td>DEL</td>\n",
       "      <td>...</td>\n",
       "      <td>26</td>\n",
       "      <td>136</td>\n",
       "      <td>0</td>\n",
       "      <td>N</td>\n",
       "      <td>52.4.108.218</td>\n",
       "      <td>NaN</td>\n",
       "      <td>NaN</td>\n",
       "      <td>NaN</td>\n",
       "      <td>0</td>\n",
       "      <td>NaN</td>\n",
       "    </tr>\n",
       "    <tr>\n",
       "      <th>4</th>\n",
       "      <td>1429199560</td>\n",
       "      <td>2019-06-05 16:10:20.917</td>\n",
       "      <td>NaN</td>\n",
       "      <td>0</td>\n",
       "      <td>&lt;FlightJourneyAvailabilityResponse&gt;No fares&lt;/F...</td>\n",
       "      <td>0</td>\n",
       "      <td>NaN</td>\n",
       "      <td>185.6.168.243</td>\n",
       "      <td>PAR</td>\n",
       "      <td>ZRH</td>\n",
       "      <td>...</td>\n",
       "      <td>26</td>\n",
       "      <td>136</td>\n",
       "      <td>0</td>\n",
       "      <td>N</td>\n",
       "      <td>52.201.73.182</td>\n",
       "      <td>NaN</td>\n",
       "      <td>NaN</td>\n",
       "      <td>NaN</td>\n",
       "      <td>0</td>\n",
       "      <td>NaN</td>\n",
       "    </tr>\n",
       "  </tbody>\n",
       "</table>\n",
       "<p>5 rows × 29 columns</p>\n",
       "</div>"
      ],
      "text/plain": [
       "         wsID                  wsDate  wsReq  wsResCt  \\\n",
       "0  1429199628 2019-06-05 16:10:21.517    NaN        0   \n",
       "1  1429199620 2019-06-05 16:10:21.487    NaN        0   \n",
       "2  1429199585 2019-06-05 16:10:21.130    NaN        0   \n",
       "3  1429199570 2019-06-05 16:10:20.997    NaN        0   \n",
       "4  1429199560 2019-06-05 16:10:20.917    NaN        0   \n",
       "\n",
       "                                             wsError  wsTime  source  \\\n",
       "0  <FlightJourneyAvailabilityResponse>No fares</F...       0     NaN   \n",
       "1  <FlightJourneyAvailabilityResponse>No fares</F...       0     NaN   \n",
       "2  <FlightJourneyAvailabilityResponse>No fares</F...       0     NaN   \n",
       "3  <FlightJourneyAvailabilityResponse>No fares</F...       0     NaN   \n",
       "4  <FlightJourneyAvailabilityResponse>No fares</F...       0     NaN   \n",
       "\n",
       "             trIP dept dest  ... afid  aid  trno  live_price       result_ip  \\\n",
       "0  208.94.136.245  SDQ  JFK  ...   26  136     0           N  54.173.135.178   \n",
       "1  208.94.136.244  SJO  MEX  ...   26  136     0           N     52.1.239.22   \n",
       "2   185.6.168.243  ZRH  NYC  ...   26  136     0           N   52.201.73.182   \n",
       "3  208.94.136.246  SIN  DEL  ...   26  136     0           N    52.4.108.218   \n",
       "4   185.6.168.243  PAR  ZRH  ...   26  136     0           N   52.201.73.182   \n",
       "\n",
       "   conf  client_ip  Airlines lower_price  device_id  \n",
       "0   NaN        NaN       NaN           0        NaN  \n",
       "1   NaN        NaN       NaN           0        NaN  \n",
       "2   NaN        NaN       NaN           0        NaN  \n",
       "3   NaN        NaN       NaN           0        NaN  \n",
       "4   NaN        NaN       NaN           0        NaN  \n",
       "\n",
       "[5 rows x 29 columns]"
      ]
     },
     "execution_count": 44,
     "metadata": {},
     "output_type": "execute_result"
    }
   ],
   "source": [
    "data.head()"
   ]
  },
  {
   "cell_type": "code",
   "execution_count": 45,
   "metadata": {},
   "outputs": [
    {
     "data": {
      "text/plain": [
       "Index(['wsID', 'wsDate', 'wsReq', 'wsResCt', 'wsError', 'wsTime', 'source',\n",
       "       'trIP', 'dept', 'dest', 'depDate', 'retDate', 'Adult', 'Child',\n",
       "       'Infant', 'CabinClass', 'Aircode', 'JType', 'DFlights', 'afid', 'aid',\n",
       "       'trno', 'live_price', 'result_ip', 'conf', 'client_ip', 'Airlines',\n",
       "       'lower_price', 'device_id'],\n",
       "      dtype='object')"
      ]
     },
     "execution_count": 45,
     "metadata": {},
     "output_type": "execute_result"
    }
   ],
   "source": [
    "data.columns"
   ]
  },
  {
   "cell_type": "code",
   "execution_count": 46,
   "metadata": {},
   "outputs": [],
   "source": [
    "d=data.iloc[:,1:13]"
   ]
  },
  {
   "cell_type": "code",
   "execution_count": 47,
   "metadata": {},
   "outputs": [
    {
     "data": {
      "text/html": [
       "<div>\n",
       "<style scoped>\n",
       "    .dataframe tbody tr th:only-of-type {\n",
       "        vertical-align: middle;\n",
       "    }\n",
       "\n",
       "    .dataframe tbody tr th {\n",
       "        vertical-align: top;\n",
       "    }\n",
       "\n",
       "    .dataframe thead th {\n",
       "        text-align: right;\n",
       "    }\n",
       "</style>\n",
       "<table border=\"1\" class=\"dataframe\">\n",
       "  <thead>\n",
       "    <tr style=\"text-align: right;\">\n",
       "      <th></th>\n",
       "      <th>wsDate</th>\n",
       "      <th>wsReq</th>\n",
       "      <th>wsResCt</th>\n",
       "      <th>wsError</th>\n",
       "      <th>wsTime</th>\n",
       "      <th>source</th>\n",
       "      <th>trIP</th>\n",
       "      <th>dept</th>\n",
       "      <th>dest</th>\n",
       "      <th>depDate</th>\n",
       "      <th>retDate</th>\n",
       "      <th>Adult</th>\n",
       "    </tr>\n",
       "  </thead>\n",
       "  <tbody>\n",
       "    <tr>\n",
       "      <th>0</th>\n",
       "      <td>2019-06-05 16:10:21.517</td>\n",
       "      <td>NaN</td>\n",
       "      <td>0</td>\n",
       "      <td>&lt;FlightJourneyAvailabilityResponse&gt;No fares&lt;/F...</td>\n",
       "      <td>0</td>\n",
       "      <td>NaN</td>\n",
       "      <td>208.94.136.245</td>\n",
       "      <td>SDQ</td>\n",
       "      <td>JFK</td>\n",
       "      <td>2019-07-03</td>\n",
       "      <td>2019-08-04</td>\n",
       "      <td>1</td>\n",
       "    </tr>\n",
       "    <tr>\n",
       "      <th>1</th>\n",
       "      <td>2019-06-05 16:10:21.487</td>\n",
       "      <td>NaN</td>\n",
       "      <td>0</td>\n",
       "      <td>&lt;FlightJourneyAvailabilityResponse&gt;No fares&lt;/F...</td>\n",
       "      <td>0</td>\n",
       "      <td>NaN</td>\n",
       "      <td>208.94.136.244</td>\n",
       "      <td>SJO</td>\n",
       "      <td>MEX</td>\n",
       "      <td>2019-06-24</td>\n",
       "      <td>2019-06-27</td>\n",
       "      <td>1</td>\n",
       "    </tr>\n",
       "    <tr>\n",
       "      <th>2</th>\n",
       "      <td>2019-06-05 16:10:21.130</td>\n",
       "      <td>NaN</td>\n",
       "      <td>0</td>\n",
       "      <td>&lt;FlightJourneyAvailabilityResponse&gt;No fares&lt;/F...</td>\n",
       "      <td>0</td>\n",
       "      <td>NaN</td>\n",
       "      <td>185.6.168.243</td>\n",
       "      <td>ZRH</td>\n",
       "      <td>NYC</td>\n",
       "      <td>2019-06-06</td>\n",
       "      <td>2019-06-11</td>\n",
       "      <td>1</td>\n",
       "    </tr>\n",
       "    <tr>\n",
       "      <th>3</th>\n",
       "      <td>2019-06-05 16:10:20.997</td>\n",
       "      <td>NaN</td>\n",
       "      <td>0</td>\n",
       "      <td>&lt;FlightJourneyAvailabilityResponse&gt;No fares&lt;/F...</td>\n",
       "      <td>0</td>\n",
       "      <td>NaN</td>\n",
       "      <td>208.94.136.246</td>\n",
       "      <td>SIN</td>\n",
       "      <td>DEL</td>\n",
       "      <td>2019-06-26</td>\n",
       "      <td>2019-06-30</td>\n",
       "      <td>2</td>\n",
       "    </tr>\n",
       "    <tr>\n",
       "      <th>4</th>\n",
       "      <td>2019-06-05 16:10:20.917</td>\n",
       "      <td>NaN</td>\n",
       "      <td>0</td>\n",
       "      <td>&lt;FlightJourneyAvailabilityResponse&gt;No fares&lt;/F...</td>\n",
       "      <td>0</td>\n",
       "      <td>NaN</td>\n",
       "      <td>185.6.168.243</td>\n",
       "      <td>PAR</td>\n",
       "      <td>ZRH</td>\n",
       "      <td>2019-06-06</td>\n",
       "      <td>2019-06-12</td>\n",
       "      <td>1</td>\n",
       "    </tr>\n",
       "  </tbody>\n",
       "</table>\n",
       "</div>"
      ],
      "text/plain": [
       "                   wsDate  wsReq  wsResCt  \\\n",
       "0 2019-06-05 16:10:21.517    NaN        0   \n",
       "1 2019-06-05 16:10:21.487    NaN        0   \n",
       "2 2019-06-05 16:10:21.130    NaN        0   \n",
       "3 2019-06-05 16:10:20.997    NaN        0   \n",
       "4 2019-06-05 16:10:20.917    NaN        0   \n",
       "\n",
       "                                             wsError  wsTime  source  \\\n",
       "0  <FlightJourneyAvailabilityResponse>No fares</F...       0     NaN   \n",
       "1  <FlightJourneyAvailabilityResponse>No fares</F...       0     NaN   \n",
       "2  <FlightJourneyAvailabilityResponse>No fares</F...       0     NaN   \n",
       "3  <FlightJourneyAvailabilityResponse>No fares</F...       0     NaN   \n",
       "4  <FlightJourneyAvailabilityResponse>No fares</F...       0     NaN   \n",
       "\n",
       "             trIP dept dest    depDate    retDate  Adult  \n",
       "0  208.94.136.245  SDQ  JFK 2019-07-03 2019-08-04      1  \n",
       "1  208.94.136.244  SJO  MEX 2019-06-24 2019-06-27      1  \n",
       "2   185.6.168.243  ZRH  NYC 2019-06-06 2019-06-11      1  \n",
       "3  208.94.136.246  SIN  DEL 2019-06-26 2019-06-30      2  \n",
       "4   185.6.168.243  PAR  ZRH 2019-06-06 2019-06-12      1  "
      ]
     },
     "execution_count": 47,
     "metadata": {},
     "output_type": "execute_result"
    }
   ],
   "source": [
    "d.head()"
   ]
  },
  {
   "cell_type": "code",
   "execution_count": 8,
   "metadata": {},
   "outputs": [
    {
     "data": {
      "text/plain": [
       "810"
      ]
     },
     "execution_count": 8,
     "metadata": {},
     "output_type": "execute_result"
    }
   ],
   "source": [
    "len(d[\"dept\"].unique())"
   ]
  },
  {
   "cell_type": "code",
   "execution_count": 9,
   "metadata": {},
   "outputs": [
    {
     "data": {
      "text/plain": [
       "1060"
      ]
     },
     "execution_count": 9,
     "metadata": {},
     "output_type": "execute_result"
    }
   ],
   "source": [
    "len(d[\"dest\"].unique())"
   ]
  },
  {
   "cell_type": "code",
   "execution_count": 10,
   "metadata": {},
   "outputs": [],
   "source": [
    "def gif(x,y):\n",
    "    return(x-y)"
   ]
  },
  {
   "cell_type": "code",
   "execution_count": null,
   "metadata": {},
   "outputs": [],
   "source": [
    "#data['route'] = data[['dept', 'dest']].apply(lambda x: '-'.join(x), axis=1)"
   ]
  },
  {
   "cell_type": "code",
   "execution_count": 27,
   "metadata": {},
   "outputs": [],
   "source": [
    "d[\"weneed\"]=d[\"dept\"]+\"-\" +d[\"dest\"]"
   ]
  },
  {
   "cell_type": "code",
   "execution_count": 28,
   "metadata": {},
   "outputs": [
    {
     "data": {
      "text/html": [
       "<div>\n",
       "<style scoped>\n",
       "    .dataframe tbody tr th:only-of-type {\n",
       "        vertical-align: middle;\n",
       "    }\n",
       "\n",
       "    .dataframe tbody tr th {\n",
       "        vertical-align: top;\n",
       "    }\n",
       "\n",
       "    .dataframe thead th {\n",
       "        text-align: right;\n",
       "    }\n",
       "</style>\n",
       "<table border=\"1\" class=\"dataframe\">\n",
       "  <thead>\n",
       "    <tr style=\"text-align: right;\">\n",
       "      <th></th>\n",
       "      <th>wsDate</th>\n",
       "      <th>wsReq</th>\n",
       "      <th>wsResCt</th>\n",
       "      <th>wsError</th>\n",
       "      <th>wsTime</th>\n",
       "      <th>source</th>\n",
       "      <th>trIP</th>\n",
       "      <th>dept</th>\n",
       "      <th>dest</th>\n",
       "      <th>depDate</th>\n",
       "      <th>retDate</th>\n",
       "      <th>Adult</th>\n",
       "      <th>weneed</th>\n",
       "    </tr>\n",
       "  </thead>\n",
       "  <tbody>\n",
       "    <tr>\n",
       "      <th>0</th>\n",
       "      <td>2019-06-05 16:10:21.517</td>\n",
       "      <td>NaN</td>\n",
       "      <td>0</td>\n",
       "      <td>&lt;FlightJourneyAvailabilityResponse&gt;No fares&lt;/F...</td>\n",
       "      <td>0</td>\n",
       "      <td>NaN</td>\n",
       "      <td>208.94.136.245</td>\n",
       "      <td>SDQ</td>\n",
       "      <td>JFK</td>\n",
       "      <td>2019-07-03</td>\n",
       "      <td>2019-08-04</td>\n",
       "      <td>1</td>\n",
       "      <td>SDQ-JFK</td>\n",
       "    </tr>\n",
       "    <tr>\n",
       "      <th>1</th>\n",
       "      <td>2019-06-05 16:10:21.487</td>\n",
       "      <td>NaN</td>\n",
       "      <td>0</td>\n",
       "      <td>&lt;FlightJourneyAvailabilityResponse&gt;No fares&lt;/F...</td>\n",
       "      <td>0</td>\n",
       "      <td>NaN</td>\n",
       "      <td>208.94.136.244</td>\n",
       "      <td>SJO</td>\n",
       "      <td>MEX</td>\n",
       "      <td>2019-06-24</td>\n",
       "      <td>2019-06-27</td>\n",
       "      <td>1</td>\n",
       "      <td>SJO-MEX</td>\n",
       "    </tr>\n",
       "    <tr>\n",
       "      <th>2</th>\n",
       "      <td>2019-06-05 16:10:21.130</td>\n",
       "      <td>NaN</td>\n",
       "      <td>0</td>\n",
       "      <td>&lt;FlightJourneyAvailabilityResponse&gt;No fares&lt;/F...</td>\n",
       "      <td>0</td>\n",
       "      <td>NaN</td>\n",
       "      <td>185.6.168.243</td>\n",
       "      <td>ZRH</td>\n",
       "      <td>NYC</td>\n",
       "      <td>2019-06-06</td>\n",
       "      <td>2019-06-11</td>\n",
       "      <td>1</td>\n",
       "      <td>ZRH-NYC</td>\n",
       "    </tr>\n",
       "    <tr>\n",
       "      <th>3</th>\n",
       "      <td>2019-06-05 16:10:20.997</td>\n",
       "      <td>NaN</td>\n",
       "      <td>0</td>\n",
       "      <td>&lt;FlightJourneyAvailabilityResponse&gt;No fares&lt;/F...</td>\n",
       "      <td>0</td>\n",
       "      <td>NaN</td>\n",
       "      <td>208.94.136.246</td>\n",
       "      <td>SIN</td>\n",
       "      <td>DEL</td>\n",
       "      <td>2019-06-26</td>\n",
       "      <td>2019-06-30</td>\n",
       "      <td>2</td>\n",
       "      <td>SIN-DEL</td>\n",
       "    </tr>\n",
       "    <tr>\n",
       "      <th>4</th>\n",
       "      <td>2019-06-05 16:10:20.917</td>\n",
       "      <td>NaN</td>\n",
       "      <td>0</td>\n",
       "      <td>&lt;FlightJourneyAvailabilityResponse&gt;No fares&lt;/F...</td>\n",
       "      <td>0</td>\n",
       "      <td>NaN</td>\n",
       "      <td>185.6.168.243</td>\n",
       "      <td>PAR</td>\n",
       "      <td>ZRH</td>\n",
       "      <td>2019-06-06</td>\n",
       "      <td>2019-06-12</td>\n",
       "      <td>1</td>\n",
       "      <td>PAR-ZRH</td>\n",
       "    </tr>\n",
       "  </tbody>\n",
       "</table>\n",
       "</div>"
      ],
      "text/plain": [
       "                   wsDate  wsReq  wsResCt  \\\n",
       "0 2019-06-05 16:10:21.517    NaN        0   \n",
       "1 2019-06-05 16:10:21.487    NaN        0   \n",
       "2 2019-06-05 16:10:21.130    NaN        0   \n",
       "3 2019-06-05 16:10:20.997    NaN        0   \n",
       "4 2019-06-05 16:10:20.917    NaN        0   \n",
       "\n",
       "                                             wsError  wsTime  source  \\\n",
       "0  <FlightJourneyAvailabilityResponse>No fares</F...       0     NaN   \n",
       "1  <FlightJourneyAvailabilityResponse>No fares</F...       0     NaN   \n",
       "2  <FlightJourneyAvailabilityResponse>No fares</F...       0     NaN   \n",
       "3  <FlightJourneyAvailabilityResponse>No fares</F...       0     NaN   \n",
       "4  <FlightJourneyAvailabilityResponse>No fares</F...       0     NaN   \n",
       "\n",
       "             trIP dept dest    depDate    retDate  Adult   weneed  \n",
       "0  208.94.136.245  SDQ  JFK 2019-07-03 2019-08-04      1  SDQ-JFK  \n",
       "1  208.94.136.244  SJO  MEX 2019-06-24 2019-06-27      1  SJO-MEX  \n",
       "2   185.6.168.243  ZRH  NYC 2019-06-06 2019-06-11      1  ZRH-NYC  \n",
       "3  208.94.136.246  SIN  DEL 2019-06-26 2019-06-30      2  SIN-DEL  \n",
       "4   185.6.168.243  PAR  ZRH 2019-06-06 2019-06-12      1  PAR-ZRH  "
      ]
     },
     "execution_count": 28,
     "metadata": {},
     "output_type": "execute_result"
    }
   ],
   "source": [
    "d.head()"
   ]
  },
  {
   "cell_type": "code",
   "execution_count": 30,
   "metadata": {},
   "outputs": [
    {
     "data": {
      "text/plain": [
       "BOG-MIA    35\n",
       "YYZ-HAV    28\n",
       "MNL-LAX    24\n",
       "MIA-LIM    19\n",
       "KIN-FLL    19\n",
       "Name: weneed, dtype: int64"
      ]
     },
     "execution_count": 30,
     "metadata": {},
     "output_type": "execute_result"
    }
   ],
   "source": [
    "d[\"weneed\"].value_counts().head()"
   ]
  },
  {
   "cell_type": "code",
   "execution_count": 36,
   "metadata": {},
   "outputs": [
    {
     "data": {
      "text/plain": [
       "wsDate     datetime64[ns]\n",
       "wsReq             float64\n",
       "wsResCt             int64\n",
       "wsError            object\n",
       "wsTime              int64\n",
       "source            float64\n",
       "trIP               object\n",
       "dept               object\n",
       "dest               object\n",
       "depDate    datetime64[ns]\n",
       "retDate    datetime64[ns]\n",
       "Adult               int64\n",
       "weneed             object\n",
       "dtype: object"
      ]
     },
     "execution_count": 36,
     "metadata": {},
     "output_type": "execute_result"
    }
   ],
   "source": [
    "d.dtypes"
   ]
  },
  {
   "cell_type": "code",
   "execution_count": 48,
   "metadata": {},
   "outputs": [
    {
     "name": "stderr",
     "output_type": "stream",
     "text": [
      "Skipping tensorflow-gpu as it is not installed.\n"
     ]
    },
    {
     "name": "stdout",
     "output_type": "stream",
     "text": [
      "Collecting tensorflow-gpu==1.8.0\n",
      "  Downloading https://files.pythonhosted.org/packages/42/a8/4c96a2b4f88f5d6dfd70313ebf38de1fe4d49ba9bf2ef34dc12dd198ab9a/tensorflow_gpu-1.8.0-cp36-cp36m-win_amd64.whl (88.9MB)\n",
      "Requirement already satisfied, skipping upgrade: six>=1.10.0 in c:\\users\\sreekar chidurala\\anaconda3\\envs\\sreekarr\\lib\\site-packages (from tensorflow-gpu==1.8.0) (1.12.0)\n",
      "Requirement already satisfied, skipping upgrade: astor>=0.6.0 in c:\\users\\sreekar chidurala\\anaconda3\\envs\\sreekarr\\lib\\site-packages (from tensorflow-gpu==1.8.0) (0.7.1)\n",
      "Requirement already satisfied, skipping upgrade: protobuf>=3.4.0 in c:\\users\\sreekar chidurala\\anaconda3\\envs\\sreekarr\\lib\\site-packages (from tensorflow-gpu==1.8.0) (3.7.1)\n",
      "Requirement already satisfied, skipping upgrade: numpy>=1.13.3 in c:\\users\\sreekar chidurala\\anaconda3\\envs\\sreekarr\\lib\\site-packages (from tensorflow-gpu==1.8.0) (1.16.2)\n",
      "Requirement already satisfied, skipping upgrade: absl-py>=0.1.6 in c:\\users\\sreekar chidurala\\anaconda3\\envs\\sreekarr\\lib\\site-packages (from tensorflow-gpu==1.8.0) (0.7.1)\n",
      "Requirement already satisfied, skipping upgrade: grpcio>=1.8.6 in c:\\users\\sreekar chidurala\\anaconda3\\envs\\sreekarr\\lib\\site-packages (from tensorflow-gpu==1.8.0) (1.16.1)\n",
      "Collecting tensorboard<1.9.0,>=1.8.0 (from tensorflow-gpu==1.8.0)\n",
      "  Downloading https://files.pythonhosted.org/packages/59/a6/0ae6092b7542cfedba6b2a1c9b8dceaf278238c39484f3ba03b03f07803c/tensorboard-1.8.0-py3-none-any.whl (3.1MB)\n",
      "Requirement already satisfied, skipping upgrade: gast>=0.2.0 in c:\\users\\sreekar chidurala\\anaconda3\\envs\\sreekarr\\lib\\site-packages (from tensorflow-gpu==1.8.0) (0.2.2)\n",
      "Requirement already satisfied, skipping upgrade: termcolor>=1.1.0 in c:\\users\\sreekar chidurala\\anaconda3\\envs\\sreekarr\\lib\\site-packages (from tensorflow-gpu==1.8.0) (1.1.0)\n",
      "Requirement already satisfied, skipping upgrade: wheel>=0.26 in c:\\users\\sreekar chidurala\\anaconda3\\envs\\sreekarr\\lib\\site-packages (from tensorflow-gpu==1.8.0) (0.33.1)\n",
      "Requirement already satisfied, skipping upgrade: setuptools in c:\\users\\sreekar chidurala\\anaconda3\\envs\\sreekarr\\lib\\site-packages (from protobuf>=3.4.0->tensorflow-gpu==1.8.0) (40.8.0)\n",
      "Requirement already satisfied, skipping upgrade: werkzeug>=0.11.10 in c:\\users\\sreekar chidurala\\anaconda3\\envs\\sreekarr\\lib\\site-packages (from tensorboard<1.9.0,>=1.8.0->tensorflow-gpu==1.8.0) (0.14.1)\n",
      "Requirement already satisfied, skipping upgrade: html5lib==0.9999999 in c:\\users\\sreekar chidurala\\anaconda3\\envs\\sreekarr\\lib\\site-packages (from tensorboard<1.9.0,>=1.8.0->tensorflow-gpu==1.8.0) (0.9999999)\n",
      "Requirement already satisfied, skipping upgrade: bleach==1.5.0 in c:\\users\\sreekar chidurala\\anaconda3\\envs\\sreekarr\\lib\\site-packages (from tensorboard<1.9.0,>=1.8.0->tensorflow-gpu==1.8.0) (1.5.0)\n",
      "Requirement already satisfied, skipping upgrade: markdown>=2.6.8 in c:\\users\\sreekar chidurala\\anaconda3\\envs\\sreekarr\\lib\\site-packages (from tensorboard<1.9.0,>=1.8.0->tensorflow-gpu==1.8.0) (3.1)\n",
      "Installing collected packages: tensorboard, tensorflow-gpu\n",
      "  Found existing installation: tensorboard 1.13.1\n",
      "    Uninstalling tensorboard-1.13.1:\n",
      "      Successfully uninstalled tensorboard-1.13.1\n"
     ]
    },
    {
     "name": "stderr",
     "output_type": "stream",
     "text": [
      "tensorflow 1.13.1 has requirement tensorboard<1.14.0,>=1.13.0, but you'll have tensorboard 1.8.0 which is incompatible.\n",
      "Could not install packages due to an EnvironmentError: [WinError 5] Access is denied: 'C:\\\\Users\\\\sreekar chidurala\\\\Anaconda3\\\\envs\\\\sreekarr\\\\Lib\\\\site-packages\\\\tensorflow\\\\python\\\\_pywrap_tensorflow_internal.pyd'\n",
      "Consider using the `--user` option or check the permissions.\n",
      "\n"
     ]
    }
   ],
   "source": [
    "!pip uninstall tensorflow-gpu\n",
    "!pip install --upgrade tensorflow-gpu==1.8.0"
   ]
  },
  {
   "cell_type": "code",
   "execution_count": null,
   "metadata": {},
   "outputs": [],
   "source": []
  },
  {
   "cell_type": "code",
   "execution_count": null,
   "metadata": {},
   "outputs": [],
   "source": []
  },
  {
   "cell_type": "code",
   "execution_count": 39,
   "metadata": {},
   "outputs": [],
   "source": [
    "a=[1,2,3]\n",
    "b=[3,4,9]"
   ]
  },
  {
   "cell_type": "code",
   "execution_count": 41,
   "metadata": {},
   "outputs": [
    {
     "data": {
      "text/plain": [
       "[2, 2, 6]"
      ]
     },
     "execution_count": 41,
     "metadata": {},
     "output_type": "execute_result"
    }
   ],
   "source": [
    "list(map(lambda x,y : y-x,a,b))"
   ]
  },
  {
   "cell_type": "code",
   "execution_count": null,
   "metadata": {},
   "outputs": [],
   "source": []
  },
  {
   "cell_type": "code",
   "execution_count": null,
   "metadata": {},
   "outputs": [],
   "source": []
  },
  {
   "cell_type": "code",
   "execution_count": null,
   "metadata": {},
   "outputs": [],
   "source": []
  },
  {
   "cell_type": "code",
   "execution_count": null,
   "metadata": {},
   "outputs": [],
   "source": []
  },
  {
   "cell_type": "code",
   "execution_count": null,
   "metadata": {},
   "outputs": [],
   "source": []
  }
 ],
 "metadata": {
  "kernelspec": {
   "display_name": "Python 3",
   "language": "python",
   "name": "python3"
  },
  "language_info": {
   "codemirror_mode": {
    "name": "ipython",
    "version": 3
   },
   "file_extension": ".py",
   "mimetype": "text/x-python",
   "name": "python",
   "nbconvert_exporter": "python",
   "pygments_lexer": "ipython3",
   "version": "3.6.8"
  }
 },
 "nbformat": 4,
 "nbformat_minor": 2
}
